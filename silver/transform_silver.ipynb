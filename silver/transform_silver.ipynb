{
 "cells": [
  {
   "cell_type": "code",
   "execution_count": 0,
   "metadata": {
    "application/vnd.databricks.v1+cell": {
     "cellMetadata": {
      "byteLimit": 2048000,
      "rowLimit": 10000
     },
     "inputWidgets": {},
     "nuid": "5b31f944-95ab-436e-b5ba-8cd6b589e2ac",
     "showTitle": false,
     "tableResultSettingsMap": {},
     "title": ""
    }
   },
   "outputs": [],
   "source": [
    "# Silver Transformations: Clean and Enrich\n",
    "from pyspark.sql import SparkSession\n",
    "from pyspark.sql.functions import col, when, to_timestamp, lit, coalesce\n",
    "from delta.tables import DeltaTable\n",
    "\n",
    "spark = SparkSession.builder.appName(\"SilverTransform\").getOrCreate()\n",
    "\n",
    "# Load Bronze from catalog tables\n",
    "customers_bronze = spark.read.table(\"workspace.bronze.customers\")\n",
    "pos_sales_bronze = spark.read.table(\"workspace.bronze.pos_sales\")\n",
    "products_bronze = spark.read.table(\"workspace.bronze.products\")\n",
    "promotions_bronze = spark.read.table(\"workspace.bronze.promotions\")\n",
    "stores_bronze = spark.read.table(\"workspace.bronze.stores\")\n",
    "\n",
    "\n"
   ]
  },
  {
   "cell_type": "code",
   "execution_count": 0,
   "metadata": {
    "application/vnd.databricks.v1+cell": {
     "cellMetadata": {
      "byteLimit": 2048000,
      "rowLimit": 10000
     },
     "inputWidgets": {},
     "nuid": "4abe60ff-e5c4-4cdb-b77f-f22457207c2d",
     "showTitle": false,
     "tableResultSettingsMap": {},
     "title": ""
    }
   },
   "outputs": [],
   "source": [
    "# Silver Customers: Clean nulls, data types\n",
    "customers_silver = customers_bronze.select(\n",
    "    col(\"customer_id\"),\n",
    "    col(\"first_name\"),\n",
    "    col(\"last_name\"),\n",
    "    col(\"email\"),\n",
    "    coalesce(col(\"loyalty_status\"), lit(\"None\")).alias(\"loyalty_status\"),\n",
    "    to_timestamp(col(\"signup_date\")).alias(\"signup_date\")\n",
    ").dropDuplicates([\"customer_id\"])  # Dedup by ID\n",
    "\n"
   ]
  },
  {
   "cell_type": "code",
   "execution_count": 0,
   "metadata": {
    "application/vnd.databricks.v1+cell": {
     "cellMetadata": {
      "byteLimit": 2048000,
      "rowLimit": 10000
     },
     "inputWidgets": {},
     "nuid": "014fee64-effd-450f-8d7e-0f8c5ba3d008",
     "showTitle": false,
     "tableResultSettingsMap": {},
     "title": ""
    }
   },
   "outputs": [],
   "source": [
    "# Silver POS Sales: Clean, derive total_amount, handle null promotions\n",
    "pos_sales_silver = pos_sales_bronze.select(\n",
    "    col(\"transaction_id\"),\n",
    "    to_timestamp(col(\"transaction_date\")).alias(\"transaction_date\"),\n",
    "    col(\"product_id\"),\n",
    "    col(\"customer_id\"),\n",
    "    col(\"store_id\"),\n",
    "    when(col(\"quantity\") > 0, col(\"quantity\")).otherwise(1).alias(\"quantity\"),  # Validate quantity\n",
    "    col(\"unit_price\").cast(\"double\"),\n",
    "    coalesce(col(\"promotion_id\"), lit(\"None\")).alias(\"promotion_id\")\n",
    ").withColumn(\"total_amount\", col(\"quantity\") * col(\"unit_price\"))  # Derived column\n",
    "pos_sales_silver = pos_sales_silver.filter(col(\"unit_price\") > 0)  # Validation\n",
    "\n"
   ]
  },
  {
   "cell_type": "code",
   "execution_count": 0,
   "metadata": {
    "application/vnd.databricks.v1+cell": {
     "cellMetadata": {
      "byteLimit": 2048000,
      "rowLimit": 10000
     },
     "inputWidgets": {},
     "nuid": "c95b000a-cef3-44dc-8078-be213e216d60",
     "showTitle": false,
     "tableResultSettingsMap": {},
     "title": ""
    }
   },
   "outputs": [],
   "source": [
    "# Similar for others (simplified)\n",
    "products_silver = products_bronze.dropDuplicates([\"product_id\"])\n",
    "promotions_silver = promotions_bronze.withColumn(\"start_date\", to_timestamp(col(\"start_date\"))).withColumn(\"end_date\", to_timestamp(col(\"end_date\")))\n",
    "stores_silver = stores_bronze.withColumn(\"opened_date\", to_timestamp(col(\"opened_date\"))).dropDuplicates([\"store_id\"])\n",
    "\n"
   ]
  },
  {
   "cell_type": "code",
   "execution_count": 0,
   "metadata": {
    "application/vnd.databricks.v1+cell": {
     "cellMetadata": {
      "byteLimit": 2048000,
      "rowLimit": 10000
     },
     "inputWidgets": {},
     "nuid": "df0005cf-4862-4be1-9b5b-e29fae65be91",
     "showTitle": false,
     "tableResultSettingsMap": {},
     "title": ""
    }
   },
   "outputs": [],
   "source": [
    "# Write to Silver as managed tables (partition by date for sales)\n",
    "spark.sql(\"CREATE DATABASE IF NOT EXISTS silver\")\n",
    "customers_silver.write.format(\"delta\").mode(\"overwrite\").saveAsTable(\"silver.customers\")\n",
    "pos_sales_silver.write.format(\"delta\").mode(\"overwrite\").partitionBy(\"transaction_date\").saveAsTable(\"silver.pos_sales\")\n",
    "products_silver.write.format(\"delta\").mode(\"overwrite\").saveAsTable(\"silver.products\")\n",
    "promotions_silver.write.format(\"delta\").mode(\"overwrite\").saveAsTable(\"silver.promotions\")\n",
    "stores_silver.write.format(\"delta\").mode(\"overwrite\").saveAsTable(\"silver.stores\")\n",
    "\n",
    "# Optimize (using table names)\n",
    "DeltaTable.forName(spark, \"silver.pos_sales\").optimize().executeCompaction()\n",
    "\n",
    "print(\"Silver tables created successfully.\")"
   ]
  }
 ],
 "metadata": {
  "application/vnd.databricks.v1+notebook": {
   "computePreferences": null,
   "dashboards": [],
   "environmentMetadata": {
    "base_environment": "",
    "environment_version": "2"
   },
   "inputWidgetPreferences": null,
   "language": "python",
   "notebookMetadata": {
    "pythonIndentUnit": 4
   },
   "notebookName": "transform_silver",
   "widgets": {}
  },
  "language_info": {
   "name": "python"
  }
 },
 "nbformat": 4,
 "nbformat_minor": 0
}
