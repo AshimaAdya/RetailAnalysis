{
 "cells": [
  {
   "cell_type": "code",
   "execution_count": 0,
   "metadata": {
    "application/vnd.databricks.v1+cell": {
     "cellMetadata": {
      "byteLimit": 2048000,
      "rowLimit": 10000
     },
     "inputWidgets": {},
     "nuid": "c56dc9cd-6958-4450-ba61-0afb6482be75",
     "showTitle": false,
     "tableResultSettingsMap": {},
     "title": ""
    }
   },
   "outputs": [],
   "source": [
    "# Gold Modeling: Star Schema and Aggregations\n",
    "from pyspark.sql import SparkSession\n",
    "from pyspark.sql.functions import col, sum, count, avg, year, month, to_date, when\n",
    "from delta.tables import DeltaTable\n",
    "import pyspark.sql.utils  # For error handling\n",
    "\n",
    "spark = SparkSession.builder.appName(\"GoldModel\").getOrCreate()\n",
    "\n",
    "# Set the catalog explicitly\n",
    "spark.sql(\"USE CATALOG workspace\")\n",
    "\n",
    "# Debug: Check current catalog and schema\n",
    "print(\"Current Catalog:\")\n",
    "display(spark.sql(\"SELECT current_catalog()\"))\n",
    "print(\"Current Schema:\")\n",
    "display(spark.sql(\"SELECT current_schema()\"))\n",
    "\n",
    "# Create the gold schema if it doesn't exist, with error handling\n",
    "try:\n",
    "    spark.sql(\"CREATE SCHEMA IF NOT EXISTS workspace.gold_retail COMMENT 'Gold layer for modeled retail data'\")\n",
    "    print(\"Schema workspace.gold created or already exists.\")\n",
    "except pyspark.sql.utils.AnalysisException as e:\n",
    "    print(f\"Error creating schema: {e}\")\n",
    "    # If permissions issue, stop here and check with admin"
   ]
  },
  {
   "cell_type": "code",
   "execution_count": 0,
   "metadata": {
    "application/vnd.databricks.v1+cell": {
     "cellMetadata": {
      "byteLimit": 2048000,
      "rowLimit": 10000
     },
     "inputWidgets": {},
     "nuid": "2070fc30-f52e-4f6c-ae36-9af4f26cd50c",
     "showTitle": false,
     "tableResultSettingsMap": {},
     "title": ""
    }
   },
   "outputs": [],
   "source": [
    "#Load Silver from catalog tables\n",
    "pos_sales = spark.read.table(\"workspace.silver.pos_sales\")\n",
    "customers = spark.read.table(\"workspace.silver.customers\")\n",
    "products = spark.read.table(\"workspace.silver.products\")\n",
    "promotions = spark.read.table(\"workspace.silver.promotions\")\n",
    "stores = spark.read.table(\"workspace.silver.stores\")\n",
    "\n",
    "# Fact Sales: Join and derive metrics\n",
    "fact_sales = pos_sales.join(customers, \"customer_id\", \"left\") \\\n",
    "    .join(products, \"product_id\", \"left\") \\\n",
    "    .join(promotions, \"promotion_id\", \"left\") \\\n",
    "    .join(stores, \"store_id\", \"left\") \\\n",
    "    .withColumn(\"discount_amount\", when(col(\"discount_percent\").isNotNull(), col(\"total_amount\") * (col(\"discount_percent\") / 100)).otherwise(0)) \\\n",
    "    .withColumn(\"net_sales\", col(\"total_amount\") - col(\"discount_amount\")) \\\n",
    "    .select(\n",
    "        col(\"transaction_id\"), col(\"transaction_date\"), col(\"product_id\"), col(\"customer_id\"), col(\"store_id\"), col(\"promotion_id\"),\n",
    "        col(\"quantity\"), col(\"unit_price\"), col(\"total_amount\"), col(\"discount_amount\"), col(\"net_sales\"),\n",
    "        col(\"loyalty_status\"), col(\"category\"), col(\"brand\"), col(\"promotion_type\"), col(\"store_name\")\n",
    "    )\n",
    "\n",
    "# Dimension Tables (simplified)\n",
    "dim_customers = customers.select(\"customer_id\", \"first_name\", \"last_name\", \"email\", \"loyalty_status\", \"signup_date\")\n",
    "dim_products = products.select(\"product_id\", \"product_name\", \"category\", \"brand\", \"base_price\")\n",
    "dim_stores = stores.select(\"store_id\", \"store_name\", \"location\", \"store_type\", \"opened_date\")\n",
    "dim_promotions = promotions.select(\"promotion_id\", \"promotion_type\", \"discount_percent\", \"start_date\", \"end_date\")\n",
    "dim_date = fact_sales.select(to_date(\"transaction_date\").alias(\"date\")).distinct() \\\n",
    "    .withColumn(\"year\", year(\"date\")).withColumn(\"month\", month(\"date\"))\n",
    "\n"
   ]
  },
  {
   "cell_type": "code",
   "execution_count": 0,
   "metadata": {
    "application/vnd.databricks.v1+cell": {
     "cellMetadata": {
      "byteLimit": 2048000,
      "rowLimit": 10000
     },
     "inputWidgets": {},
     "nuid": "3cadab38-ba58-48b0-9a69-f4ae9d305e41",
     "showTitle": false,
     "tableResultSettingsMap": {},
     "title": ""
    }
   },
   "outputs": [],
   "source": [
    "# Aggregated View: Sales by Category and Loyalty\n",
    "agg_sales = fact_sales.groupBy(\"category\", \"loyalty_status\", year(\"transaction_date\").alias(\"year\"), month(\"transaction_date\").alias(\"month\")) \\\n",
    "    .agg(sum(\"net_sales\").alias(\"total_net_sales\"), sum(\"quantity\").alias(\"total_quantity\"), avg(\"discount_amount\").alias(\"avg_discount\"))\n",
    "\n",
    "# Write to Gold with createIfNotExists\n",
    "DeltaTable.createIfNotExists(spark).tableName(\"workspace.gold_retail.fact_sales\").addColumns(fact_sales.schema).partitionedBy(\"transaction_date\").execute()\n",
    "fact_sales.write.format(\"delta\").mode(\"overwrite\").partitionBy(\"transaction_date\").saveAsTable(\"workspace.gold_retail.fact_sales\")\n",
    "\n",
    "DeltaTable.createIfNotExists(spark).tableName(\"workspace.gold_retail.agg_sales_by_category_loyalty\").addColumns(agg_sales.schema).execute()\n",
    "agg_sales.write.format(\"delta\").mode(\"overwrite\").saveAsTable(\"workspace.gold_retail.agg_sales_by_category_loyalty\")\n",
    "\n",
    "DeltaTable.createIfNotExists(spark).tableName(\"workspace.gold_retail.dim_customers\").addColumns(dim_customers.schema).execute()\n",
    "dim_customers.write.format(\"delta\").mode(\"overwrite\").saveAsTable(\"workspace.gold_retail.dim_customers\")\n",
    "\n",
    "DeltaTable.createIfNotExists(spark).tableName(\"workspace.gold_retail.dim_products\").addColumns(dim_products.schema).execute()\n",
    "dim_products.write.format(\"delta\").mode(\"overwrite\").saveAsTable(\"workspace.gold_retail.dim_products\")\n",
    "\n",
    "DeltaTable.createIfNotExists(spark).tableName(\"workspace.gold_retail.dim_stores\").addColumns(dim_stores.schema).execute()\n",
    "dim_stores.write.format(\"delta\").mode(\"overwrite\").saveAsTable(\"workspace.gold_retail.dim_stores\")\n",
    "\n",
    "DeltaTable.createIfNotExists(spark).tableName(\"workspace.gold_retail.dim_promotions\").addColumns(dim_promotions.schema).execute()\n",
    "dim_promotions.write.format(\"delta\").mode(\"overwrite\").saveAsTable(\"workspace.gold_retail.dim_promotions\")\n",
    "\n",
    "DeltaTable.createIfNotExists(spark).tableName(\"workspace.gold_retail.dim_date\").addColumns(dim_date.schema).execute()\n",
    "dim_date.write.format(\"delta\").mode(\"overwrite\").saveAsTable(\"workspace.gold_retail.dim_date\")\n",
    "\n",
    "# Optimize key tables\n",
    "# - Z-Ordering: Clusters data by common join keys (e.g., customer_id) to reduce scan times.\n",
    "# - Compaction: Merges small files for better read efficiency.\n",
    "# Corrected method: Use executeZOrderBy instead of executeZOrdering\n",
    "DeltaTable.forName(spark, \"workspace.gold_retail.fact_sales\").optimize().executeZOrderBy(\"customer_id\")\n",
    "DeltaTable.forName(spark, \"workspace.gold_retail.agg_sales_by_category_loyalty\").optimize().executeCompaction()\n",
    "\n",
    "print(\"Gold tables created successfully.\")"
   ]
  }
 ],
 "metadata": {
  "application/vnd.databricks.v1+notebook": {
   "computePreferences": null,
   "dashboards": [],
   "environmentMetadata": {
    "base_environment": "",
    "environment_version": "2"
   },
   "inputWidgetPreferences": null,
   "language": "python",
   "notebookMetadata": {
    "pythonIndentUnit": 4
   },
   "notebookName": "gold_modelling",
   "widgets": {}
  },
  "language_info": {
   "name": "python"
  }
 },
 "nbformat": 4,
 "nbformat_minor": 0
}
